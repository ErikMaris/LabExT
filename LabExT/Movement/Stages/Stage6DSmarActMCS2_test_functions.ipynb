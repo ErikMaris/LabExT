{
 "cells": [
  {
   "cell_type": "code",
   "execution_count": 1,
   "metadata": {},
   "outputs": [
    {
     "name": "stdout",
     "output_type": "stream",
     "text": [
      "The stage address is '['usb:sn:MCS2-00018222_Ch1-3', 'usb:sn:MCS2-00018222_Ch4-6']'.\n",
      "The stage object is '[<LabExT.Movement.Stages.Stage6DSmarActMCS2.Stage6DSmarActMCS2 object at 0x000002404C53D6C0>, <LabExT.Movement.Stages.Stage6DSmarActMCS2.Stage6DSmarActMCS2 object at 0x000002404C53D6F0>]'.\n",
      "Stage at SmarAct Piezo-Stage at usb:sn:MCS2-00018222_Ch1-3 has been connected successfully.\n",
      "Stage at SmarAct Piezo-Stage at usb:sn:MCS2-00018222_Ch4-6 has been connected successfully.\n"
     ]
    }
   ],
   "source": [
    "#!/usr/bin/env python3\n",
    "# -*- coding: utf-8 -*-\n",
    "# This is a Notebook testing and demonstrating all functions of the Stage3DSmarActMCS2 driver.\n",
    "# IMPORTANT: before running this Notebook, ensure that the stage can move freely.\n",
    "# First move the working directory to LabExT\n",
    "\n",
    "#address = 'usb:sn:MCS2-00018222' # VISA address MCS2 controller\n",
    "path_to_LabExT = 'C:\\\\Users\\\\jmaris\\\\Documents\\\\GitHub\\\\LabExT\\\\'\n",
    "\n",
    "from time import sleep\n",
    "import os\n",
    "os.chdir(path_to_LabExT)\n",
    "\n",
    "from LabExT.Movement.Stages.Stage6DSmarActMCS2 import Stage6DSmarActMCS2\n",
    "\n",
    "## Initialize class\n",
    "\n",
    "print('The stage address is \\'{}\\'.'.format(Stage6DSmarActMCS2.find_stage_addresses()))\n",
    "stages = Stage6DSmarActMCS2.find_available_stages() # tests __init__(address)\n",
    "print('The stage object is \\'{}\\'.'.format(stages)) # function in Stage parent class\n",
    "\n",
    "for stage in stages:\n",
    "    stage.connect()\n",
    "    print(f'Stage at {stage} has been connected successfully.')"
   ]
  },
  {
   "cell_type": "markdown",
   "metadata": {},
   "source": [
    "In the section below, we test whether the stages can be individually controlled. This section is based on Stage3DSmarActMCS2_test_functions.ipynb."
   ]
  },
  {
   "cell_type": "code",
   "execution_count": 2,
   "metadata": {},
   "outputs": [
    {
     "name": "stdout",
     "output_type": "stream",
     "text": [
      "The adress string is 'usb:sn:MCS2-00018222_Ch1-3'.\n",
      "The identifier is 'usb:sn:MCS2-00018222_Ch1-3'.\n",
      "The string representation of the stage is 'SmarAct Piezo-Stage at usb:sn:MCS2-00018222_Ch1-3'.\n",
      "The statuses for the linear movers in x,y,z are (['CLOSED_LOOP_ACTIVE', 'SENSOR_PRESENT', 'IS_CALIBRATED', 'REFERENCE_MARK', 'AMPLIFIER_ENABLED', 'IN_POSITION'], ['CLOSED_LOOP_ACTIVE', 'SENSOR_PRESENT', 'IS_CALIBRATED', 'AMPLIFIER_ENABLED', 'IN_POSITION'], ['CLOSED_LOOP_ACTIVE', 'SENSOR_PRESENT', 'IS_CALIBRATED', 'REFERENCE_MARK', 'AMPLIFIER_ENABLED', 'IN_POSITION']).\n",
      "The adress string is 'usb:sn:MCS2-00018222_Ch4-6'.\n",
      "The identifier is 'usb:sn:MCS2-00018222_Ch4-6'.\n",
      "The string representation of the stage is 'SmarAct Piezo-Stage at usb:sn:MCS2-00018222_Ch4-6'.\n",
      "The statuses for the linear movers in x,y,z are (['CLOSED_LOOP_ACTIVE', 'SENSOR_PRESENT', 'IS_CALIBRATED', 'AMPLIFIER_ENABLED', 'IN_POSITION'], ['CLOSED_LOOP_ACTIVE', 'SENSOR_PRESENT', 'IS_CALIBRATED', 'AMPLIFIER_ENABLED', 'IN_POSITION'], ['CLOSED_LOOP_ACTIVE', 'SENSOR_PRESENT', 'IS_CALIBRATED', 'AMPLIFIER_ENABLED', 'IN_POSITION']).\n"
     ]
    }
   ],
   "source": [
    "## Run tests and print results\n",
    "# Test all properties and functions in https://labext.readthedocs.io/en/latest/code_API_mover/ (LabExT v. 2.3.1)\n",
    "\n",
    "# Identification\n",
    "for stage in stages:\n",
    "    print('The adress string is \\'{}\\'.'.format(stage.address_string))\n",
    "    print('The identifier is \\'{}\\'.'.format(stage.identifier))\n",
    "    print('The string representation of the stage is \\'{}\\'.'.format(str(stage))) # tests __str()__\n",
    "    print('The statuses for the linear movers in x,y,z are {}.'.format(stage.get_status()))"
   ]
  },
  {
   "cell_type": "code",
   "execution_count": 3,
   "metadata": {},
   "outputs": [
    {
     "name": "stdout",
     "output_type": "stream",
     "text": [
      "\n",
      "Testing SmarAct Piezo-Stage at usb:sn:MCS2-00018222_Ch1-3:\n",
      "The accelleration in x,y is 0.0 um/s2. Setting to 100 um2/s.\n",
      "\n",
      "Testing SmarAct Piezo-Stage at usb:sn:MCS2-00018222_Ch4-6:\n",
      "The accelleration in x,y is 0.0 um/s2. Setting to 100 um2/s.\n"
     ]
    }
   ],
   "source": [
    "# Get and set properties\n",
    "for stage in stages:\n",
    "    print('\\nTesting {}:'.format(str(stage)))\n",
    "    print('The accelleration in x,y is {} um/s2. Setting to 100 um2/s.'.format(stage.get_acceleration_xy()))\n",
    "    stage.set_acceleration_xy(100)\n",
    "    assert(stage.get_acceleration_xy() == 100)"
   ]
  },
  {
   "cell_type": "code",
   "execution_count": 4,
   "metadata": {},
   "outputs": [
    {
     "name": "stdout",
     "output_type": "stream",
     "text": [
      "\n",
      "Testing SmarAct Piezo-Stage at usb:sn:MCS2-00018222_Ch1-3:\n",
      "The speed in x,y is 300.0 um/s. Setting to 200 um/s\n",
      "\n",
      "Testing SmarAct Piezo-Stage at usb:sn:MCS2-00018222_Ch4-6:\n",
      "The speed in x,y is 300.0 um/s. Setting to 200 um/s\n"
     ]
    }
   ],
   "source": [
    "for stage in stages:\n",
    "    print('\\nTesting {}:'.format(str(stage)))\n",
    "    print('The speed in x,y is {} um/s. Setting to 200 um/s'.format(stage.get_speed_xy()))\n",
    "    stage.set_speed_xy(200)\n",
    "    assert(stage.get_speed_xy() == 200)"
   ]
  },
  {
   "cell_type": "code",
   "execution_count": 5,
   "metadata": {},
   "outputs": [
    {
     "name": "stdout",
     "output_type": "stream",
     "text": [
      "\n",
      "Testing SmarAct Piezo-Stage at usb:sn:MCS2-00018222_Ch1-3:\n",
      "The speed in z is 20.0 um/s. Setting to 10 um/s.\n",
      "\n",
      "Testing SmarAct Piezo-Stage at usb:sn:MCS2-00018222_Ch4-6:\n",
      "The speed in z is 20.0 um/s. Setting to 10 um/s.\n"
     ]
    }
   ],
   "source": [
    "for stage in stages:\n",
    "    print('\\nTesting {}:'.format(str(stage)))\n",
    "    print('The speed in z is {} um/s. Setting to 10 um/s.'.format(stage.get_speed_z()))\n",
    "    stage.set_speed_z(10)\n",
    "    assert(stage.get_speed_z() == 10)"
   ]
  },
  {
   "cell_type": "code",
   "execution_count": 6,
   "metadata": {},
   "outputs": [
    {
     "name": "stdout",
     "output_type": "stream",
     "text": [
      "\n",
      "Testing SmarAct Piezo-Stage at usb:sn:MCS2-00018222_Ch1-3:\n",
      "The position of the linear movers in x,y,z are [249.997862, 249.999406, 10.000065] um. Setting to (500, 500, 25).\n",
      "The position of the linear movers in x,y,z are [500.000876, 500.00566399999997, 25.000835] um.\n",
      "\n",
      "\n",
      "Testing SmarAct Piezo-Stage at usb:sn:MCS2-00018222_Ch4-6:\n",
      "The position of the linear movers in x,y,z are [249.999248, 250.000406, 9.999779] um. Setting to (500, 500, 25).\n",
      "The position of the linear movers in x,y,z are [500.002949, 500.00391399999995, 24.999454999999998] um.\n",
      "\n"
     ]
    }
   ],
   "source": [
    "for stage in stages:\n",
    "    print('\\nTesting {}:'.format(str(stage)))\n",
    "    movement_um = (500,500,25)\n",
    "    print('The position of the linear movers in x,y,z are {0} um. Setting to {1}.'.format(stage.get_position(),movement_um))\n",
    "    stage.move_absolute(x=movement_um[0], y=movement_um[1], z=movement_um[2], wait_for_stopping=True) # stage._wait_for_stopping and stage.is_stopped are invoked\n",
    "    print('The position of the linear movers in x,y,z are {} um.\\n'.format(stage.get_position()))"
   ]
  },
  {
   "cell_type": "code",
   "execution_count": 7,
   "metadata": {},
   "outputs": [
    {
     "name": "stdout",
     "output_type": "stream",
     "text": [
      "\n",
      "Testing SmarAct Piezo-Stage at usb:sn:MCS2-00018222_Ch1-3:\n",
      "The position of the linear movers in x,y,z are [499.999918, 499.999391, 24.999685] um. Moving back with (500, 500, 25).\n",
      "\n",
      "Testing SmarAct Piezo-Stage at usb:sn:MCS2-00018222_Ch4-6:\n",
      "The position of the linear movers in x,y,z are [500.00010299999997, 500.001845, 24.997978999999997] um. Moving back with (500, 500, 25).\n"
     ]
    }
   ],
   "source": [
    "for stage in stages:\n",
    "    print('\\nTesting {}:'.format(str(stage)))\n",
    "    print('The position of the linear movers in x,y,z are {0} um. Moving back with {1}.'.format(stage.get_position(),movement_um))\n",
    "    stage.move_relative(x=-movement_um[0], y=-movement_um[1], z=-movement_um[2], wait_for_stopping=True)"
   ]
  },
  {
   "cell_type": "code",
   "execution_count": 8,
   "metadata": {},
   "outputs": [
    {
     "name": "stdout",
     "output_type": "stream",
     "text": [
      "Returning SmarAct Piezo-Stage at usb:sn:MCS2-00018222_Ch1-3 to base.\n",
      "The position of the linear movers in x,y,z are [-0.00022899999999999998, -0.000296, -0.002874] um. Setting to (0, 0, 0).\n",
      "The position of the linear movers in x,y,z are [-0.000441, 0.000101, -0.0012619999999999999] um.\n",
      "\n",
      "--- Testing SmarAct Piezo-Stage at usb:sn:MCS2-00018222_Ch1-3 with wait_for_stopping = True ---\n",
      "Request position after 0 seconds: [1500.0011809999999, 1499.999607, 100.004149] um.\n",
      "Request position after 1 seconds: [1499.999499, 1499.999435, 100.000182] um.\n",
      "Request position after 2 seconds: [1500.0003629999999, 1499.9993419999998, 100.00037999999999] um.\n",
      "Request position after 3 seconds: [1500.000388, 1500.000196, 100.000548] um.\n",
      "Request position after 13 seconds: [1499.9987199999998, 1500.000889, 99.999191] um.\n",
      "\n",
      "Returning SmarAct Piezo-Stage at usb:sn:MCS2-00018222_Ch1-3 to base.\n",
      "The position of the linear movers in x,y,z are [1499.998589, 1499.99838, 99.999191] um. Setting to (0, 0, 0).\n",
      "The position of the linear movers in x,y,z are [1500.000435, 1500.000517, 100.002726] um.\n",
      "\n",
      "--- Testing SmarAct Piezo-Stage at usb:sn:MCS2-00018222_Ch1-3 with wait_for_stopping = False ---\n",
      "Request position after 0 seconds: [-3.2999999999999996e-05, -0.000202, -0.0026869999999999997] um.\n",
      "Request position after 1 seconds: [49.905947, 49.632118, 10.101445] um.\n",
      "Request position after 2 seconds: [201.31404999999998, 200.59975799999998, 20.043896] um.\n",
      "Request position after 3 seconds: [405.67868599999997, 404.92922599999997, 30.245217] um.\n",
      "Request position after 13 seconds: [1500.001157, 1499.9993379999999, 99.999803] um.\n",
      "\n",
      "Returning SmarAct Piezo-Stage at usb:sn:MCS2-00018222_Ch4-6 to base.\n",
      "The position of the linear movers in x,y,z are [0.000169, -0.000325, -0.0008759999999999999] um. Setting to (0, 0, 0).\n",
      "The position of the linear movers in x,y,z are [0.000554, -0.001981, -0.000207] um.\n",
      "\n",
      "--- Testing SmarAct Piezo-Stage at usb:sn:MCS2-00018222_Ch4-6 with wait_for_stopping = True ---\n",
      "Request position after 0 seconds: [1499.999235, 1500.0004159999999, 100.00248099999999] um.\n",
      "Request position after 1 seconds: [1500.000214, 1500.000153, 99.99838199999999] um.\n",
      "Request position after 2 seconds: [1499.999918, 1500.00098, 100.001368] um.\n",
      "Request position after 3 seconds: [1499.999703, 1499.9991559999999, 100.001464] um.\n",
      "Request position after 13 seconds: [1500.0009579999999, 1499.998328, 100.000839] um.\n",
      "\n",
      "Returning SmarAct Piezo-Stage at usb:sn:MCS2-00018222_Ch4-6 to base.\n",
      "The position of the linear movers in x,y,z are [1499.998418, 1499.999938, 100.00182199999999] um. Setting to (0, 0, 0).\n",
      "The position of the linear movers in x,y,z are [1500.0002319999999, 1500.0001539999998, 100.001138] um.\n",
      "\n",
      "--- Testing SmarAct Piezo-Stage at usb:sn:MCS2-00018222_Ch4-6 with wait_for_stopping = False ---\n",
      "Request position after 0 seconds: [0.000299, 0.000712, -0.000683] um.\n",
      "Request position after 1 seconds: [50.698985, 50.653968, 10.079093] um.\n",
      "Request position after 2 seconds: [205.784254, 205.199342, 20.297158] um.\n",
      "Request position after 3 seconds: [409.03657, 408.267358, 30.367894] um.\n",
      "Request position after 13 seconds: [1500.0013689999998, 1500.000307, 100.00084199999999] um.\n",
      "\n"
     ]
    }
   ],
   "source": [
    "# Testing wait_for_stopping functionality\n",
    "\n",
    "movement_um = (1500,1500,100)\n",
    "movement_um_home = (0,0,0)\n",
    "\n",
    "for idx in range(len(stages)):\n",
    "    print('Returning {0} to base.\\nThe position of the linear movers in x,y,z are {1} um. Setting to {2}.'.format(str(stages[idx]),stages[idx].get_position(),movement_um_home))\n",
    "    stages[idx].move_absolute(x=movement_um_home[0], y=movement_um_home[1], z=movement_um_home[2], wait_for_stopping=True)\n",
    "    print('The position of the linear movers in x,y,z are {} um.\\n'.format(stages[idx].get_position()))\n",
    "    print('--- Testing {} with wait_for_stopping = True ---'.format(str(stages[idx])))\n",
    "    stages[idx].move_absolute(x=movement_um[0], y=movement_um[1], z=movement_um[2], wait_for_stopping=True)\n",
    "    print('Request position after 0 seconds: {} um.'.format(stages[idx].get_position()))\n",
    "    sleep(1)\n",
    "    print('Request position after 1 seconds: {} um.'.format(stages[idx].get_position()))\n",
    "    sleep(1)\n",
    "    print('Request position after 2 seconds: {} um.'.format(stages[idx].get_position()))\n",
    "    sleep(1)\n",
    "    print('Request position after 3 seconds: {} um.'.format(stages[idx].get_position()))\n",
    "    sleep(10)\n",
    "    print('Request position after 13 seconds: {} um.\\n'.format(stages[idx].get_position()))\n",
    "\n",
    "    print('Returning {0} to base.\\nThe position of the linear movers in x,y,z are {1} um. Setting to {2}.'.format(str(stages[idx]),stages[idx].get_position(),movement_um_home))\n",
    "    print('The position of the linear movers in x,y,z are {} um.\\n'.format(stages[idx].get_position()))\n",
    "    stages[idx].move_absolute(x=movement_um_home[0], y=movement_um_home[1], z=movement_um_home[2], wait_for_stopping=True)\n",
    "    print('--- Testing {} with wait_for_stopping = False ---'.format(str(stages[idx])))\n",
    "    stages[idx].move_absolute(x=movement_um[0], y=movement_um[1], z=movement_um[2], wait_for_stopping=False) \n",
    "    print('Request position after 0 seconds: {} um.'.format(stages[idx].get_position()))\n",
    "    sleep(1)\n",
    "    print('Request position after 1 seconds: {} um.'.format(stages[idx].get_position()))\n",
    "    sleep(1)\n",
    "    print('Request position after 2 seconds: {} um.'.format(stages[idx].get_position()))\n",
    "    sleep(1)\n",
    "    print('Request position after 3 seconds: {} um.'.format(stages[idx].get_position()))\n",
    "    sleep(10)\n",
    "    print('Request position after 13 seconds: {} um.\\n'.format(stages[idx].get_position()))"
   ]
  },
  {
   "cell_type": "markdown",
   "metadata": {},
   "source": [
    "In the section below, we test whether the two stages can be addressed simultaneously."
   ]
  },
  {
   "cell_type": "code",
   "execution_count": 9,
   "metadata": {},
   "outputs": [
    {
     "name": "stdout",
     "output_type": "stream",
     "text": [
      "Returning SmarAct Piezo-Stage at usb:sn:MCS2-00018222_Ch1-3 to base.\n",
      "The position of the linear movers in x,y,z are [1500.000016, 1500.0001399999999, 99.99928899999999] um. Setting to (0, 0, 0).\n",
      "Returning SmarAct Piezo-Stage at usb:sn:MCS2-00018222_Ch4-6 to base.\n",
      "The position of the linear movers in x,y,z are [1499.998875, 1500.00157, 99.99951999999999] um. Setting to (0, 0, 0).\n",
      "--- Moving stages Ch1-3 and Ch4-6 simultaneously in opposite directions with wait_for_stopping = False ---\n",
      "(Ch1-3) Request position: [0.000434, 0.001091, -0.000621] um.\n",
      "(Ch4-6) Request position: [1.4999999999999999e-05, -0.000668, -0.0017369999999999998] um.\n",
      "(Ch1-3) Request position after 3 seconds: [401.243831, 401.078782, 0.000548] um.\n",
      "(Ch4-6) Request position after 3 seconds: [-401.44222199999996, -400.87883, -0.004238] um.\n",
      "(Ch1-3) Request position after 13 seconds: [1500.0011399999999, 1500.000494, 0.00037999999999999997] um.\n",
      "(Ch4-6) Request position after 13 seconds: [-1500.000914, -1500.0002769999999, 0.00014199999999999998] um.\n"
     ]
    }
   ],
   "source": [
    "# Test synchronous movement of stages\n",
    "\n",
    "waypoint1 = (1500,1500,0)\n",
    "waypoint2 = (100,100,0)\n",
    "\n",
    "print('Returning {0} to base.\\nThe position of the linear movers in x,y,z are {1} um. Setting to {2}.'.format(str(stages[0]),stages[idx].get_position(),movement_um_home))\n",
    "stages[0].move_absolute(x=movement_um_home[0], y=movement_um_home[1], z=movement_um_home[2], wait_for_stopping=True)\n",
    "print('Returning {0} to base.\\nThe position of the linear movers in x,y,z are {1} um. Setting to {2}.'.format(str(stages[1]),stages[idx].get_position(),movement_um_home))\n",
    "stages[1].move_absolute(x=movement_um_home[0], y=movement_um_home[1], z=movement_um_home[2], wait_for_stopping=True)\n",
    "\n",
    "print('--- Moving stages Ch1-3 and Ch4-6 simultaneously in opposite directions with wait_for_stopping = False ---')\n",
    "stages[0].move_absolute(x=waypoint1[0], y=waypoint1[1], z=waypoint1[2], wait_for_stopping=False)\n",
    "stages[1].move_absolute(x=-waypoint1[0], y=-waypoint1[1], z=-waypoint1[2], wait_for_stopping=False)\n",
    "print('(Ch1-3) Request position: {} um.'.format(stages[0].get_position()))\n",
    "print('(Ch4-6) Request position: {} um.'.format(stages[1].get_position()))\n",
    "sleep(3)\n",
    "print('(Ch1-3) Request position after 3 seconds: {} um.'.format(stages[0].get_position()))\n",
    "print('(Ch4-6) Request position after 3 seconds: {} um.'.format(stages[1].get_position()))\n",
    "sleep(13)\n",
    "print('(Ch1-3) Request position after 13 seconds: {} um.'.format(stages[0].get_position()))\n",
    "print('(Ch4-6) Request position after 13 seconds: {} um.'.format(stages[1].get_position()))"
   ]
  },
  {
   "cell_type": "code",
   "execution_count": 10,
   "metadata": {},
   "outputs": [
    {
     "name": "stdout",
     "output_type": "stream",
     "text": [
      "Returning SmarAct Piezo-Stage at usb:sn:MCS2-00018222_Ch1-3 to base.\n",
      "The position of the linear movers in x,y,z are [-1500.0016309999999, -1500.000485, -0.000584] um. Setting to (0, 0, 0).\n",
      "Returning SmarAct Piezo-Stage at usb:sn:MCS2-00018222_Ch4-6 to base.\n",
      "The position of the linear movers in x,y,z are [-1500.000072, -1499.999312, -0.000481] um. Setting to (0, 0, 0).\n",
      "--- Moving stages Ch1-3 and Ch4-6 simultaneously in opposite directions with wait_for_stopping = False ---\n",
      "(Ch1-3) Request position: [-0.001209, 0.001704, 0.021741999999999997] um.\n",
      "(Ch4-6) Request position: [0.0032649999999999997, 0.002875, -0.023233999999999998] um.\n",
      "(Ch1-3) Request position after 2 seconds: [202.52131599999998, 202.899172, 10.015279999999999] um.\n",
      "(Ch4-6) Request position after 2 seconds: [-202.74683, -202.685384, -10.021757] um.\n",
      "Move stage Ch1-3 to (250, 250, 10)\n",
      "(Ch1-3) Request position after 2 seconds: [206.163083, 206.488485, 9.999188] um.\n",
      "(Ch4-6) Request position after 2 seconds: [-206.27822, -206.34791099999998, -9.989861999999999] um.\n",
      "(Ch1-3) Request position after 4 seconds: [250.001789, 250.00037799999998, 10.000658] um.\n",
      "(Ch4-6) Request position after 4 seconds: [-608.3255369999999, -608.62355, -10.044545] um.\n",
      "(Ch1-3) Request position after 6 seconds: [249.99898, 250.001542, 10.000585] um.\n",
      "(Ch4-6) Request position after 6 seconds: [-1011.875136, -1011.8606189999999, -10.002398999999999] um.\n",
      "Move stage Ch4-6 to (250, 250, 10)\n",
      "(Ch1-3) Request position after 6 seconds: [249.999507, 250.00052, 9.999991] um.\n",
      "(Ch4-6) Request position after 6 seconds: [-1015.414774, -1015.5710349999999, -9.976398] um.\n",
      "(Ch1-3) Request position after 8 seconds: [249.998585, 249.99882799999997, 10.000544] um.\n",
      "(Ch4-6) Request position after 8 seconds: [-1215.606881, -1215.811824, 10.006625] um.\n",
      "(Ch1-3) Request position after 10 seconds: [249.999145, 249.999046, 10.000155999999999] um.\n",
      "(Ch4-6) Request position after 10 seconds: [-1009.817555, -1010.385687, 10.006352] um.\n",
      "(Ch1-3) Request position after 25 seconds: [250.000295, 250.002435, 10.001014999999999] um.\n",
      "(Ch4-6) Request position after 25 seconds: [249.99919699999998, 250.000551, 10.00114] um.\n"
     ]
    }
   ],
   "source": [
    "# Test asynchronous movement of stages\n",
    "\n",
    "waypoint1 = (1500,1500,10)\n",
    "waypoint2 = (250,250,10)\n",
    "\n",
    "print('Returning {0} to base.\\nThe position of the linear movers in x,y,z are {1} um. Setting to {2}.'.format(str(stages[0]),stages[idx].get_position(),movement_um_home))\n",
    "stages[0].move_absolute(x=movement_um_home[0], y=movement_um_home[1], z=movement_um_home[2], wait_for_stopping=True)\n",
    "print('Returning {0} to base.\\nThe position of the linear movers in x,y,z are {1} um. Setting to {2}.'.format(str(stages[1]),stages[idx].get_position(),movement_um_home))\n",
    "stages[1].move_absolute(x=movement_um_home[0], y=movement_um_home[1], z=movement_um_home[2], wait_for_stopping=True)\n",
    "\n",
    "print('--- Moving stages Ch1-3 and Ch4-6 simultaneously in opposite directions with wait_for_stopping = False ---')\n",
    "stages[0].move_absolute(x=waypoint1[0], y=waypoint1[1], z=waypoint1[2], wait_for_stopping=False)\n",
    "stages[1].move_absolute(x=-waypoint1[0], y=-waypoint1[1], z=-waypoint1[2], wait_for_stopping=False)\n",
    "print('(Ch1-3) Request position: {} um.'.format(stages[0].get_position()))\n",
    "print('(Ch4-6) Request position: {} um.'.format(stages[1].get_position()))\n",
    "sleep(2)\n",
    "print('(Ch1-3) Request position after 2 seconds: {} um.'.format(stages[0].get_position()))\n",
    "print('(Ch4-6) Request position after 2 seconds: {} um.'.format(stages[1].get_position()))\n",
    "print('Move stage Ch1-3 to {}'.format(waypoint2))\n",
    "stages[0].move_absolute(x=waypoint2[0], y=waypoint2[1], z=waypoint2[2], wait_for_stopping=False)\n",
    "print('(Ch1-3) Request position after 2 seconds: {} um.'.format(stages[0].get_position()))\n",
    "print('(Ch4-6) Request position after 2 seconds: {} um.'.format(stages[1].get_position()))\n",
    "sleep(2)\n",
    "print('(Ch1-3) Request position after 4 seconds: {} um.'.format(stages[0].get_position()))\n",
    "print('(Ch4-6) Request position after 4 seconds: {} um.'.format(stages[1].get_position()))\n",
    "sleep(2)\n",
    "print('(Ch1-3) Request position after 6 seconds: {} um.'.format(stages[0].get_position()))\n",
    "print('(Ch4-6) Request position after 6 seconds: {} um.'.format(stages[1].get_position()))\n",
    "print('Move stage Ch4-6 to {}'.format(waypoint2))\n",
    "stages[1].move_absolute(x=waypoint2[0], y=waypoint2[1], z=waypoint2[2], wait_for_stopping=False)\n",
    "print('(Ch1-3) Request position after 6 seconds: {} um.'.format(stages[0].get_position()))\n",
    "print('(Ch4-6) Request position after 6 seconds: {} um.'.format(stages[1].get_position()))\n",
    "sleep(2)\n",
    "print('(Ch1-3) Request position after 8 seconds: {} um.'.format(stages[0].get_position()))\n",
    "print('(Ch4-6) Request position after 8 seconds: {} um.'.format(stages[1].get_position()))\n",
    "sleep(2)\n",
    "print('(Ch1-3) Request position after 10 seconds: {} um.'.format(stages[0].get_position()))\n",
    "print('(Ch4-6) Request position after 10 seconds: {} um.'.format(stages[1].get_position()))\n",
    "sleep(15)\n",
    "print('(Ch1-3) Request position after 25 seconds: {} um.'.format(stages[0].get_position()))\n",
    "print('(Ch4-6) Request position after 25 seconds: {} um.'.format(stages[1].get_position()))"
   ]
  },
  {
   "cell_type": "code",
   "execution_count": 11,
   "metadata": {},
   "outputs": [
    {
     "name": "stdout",
     "output_type": "stream",
     "text": [
      "\n",
      "Testing SmarAct Piezo-Stage at usb:sn:MCS2-00018222_Ch1-3:\n",
      "Stage has been disconnected successfully.\n",
      "\n",
      "Testing SmarAct Piezo-Stage at usb:sn:MCS2-00018222_Ch4-6:\n",
      "Stage has been disconnected successfully.\n"
     ]
    }
   ],
   "source": [
    "# Close connection\n",
    "for stage in stages:\n",
    "    print('\\nTesting {}:'.format(str(stage)))\n",
    "    stage.disconnect()\n",
    "    print('Stage has been disconnected successfully.')"
   ]
  }
 ],
 "metadata": {
  "kernelspec": {
   "display_name": "LabExt_p310",
   "language": "python",
   "name": "python3"
  },
  "language_info": {
   "codemirror_mode": {
    "name": "ipython",
    "version": 3
   },
   "file_extension": ".py",
   "mimetype": "text/x-python",
   "name": "python",
   "nbconvert_exporter": "python",
   "pygments_lexer": "ipython3",
   "version": "3.10.14"
  }
 },
 "nbformat": 4,
 "nbformat_minor": 2
}
