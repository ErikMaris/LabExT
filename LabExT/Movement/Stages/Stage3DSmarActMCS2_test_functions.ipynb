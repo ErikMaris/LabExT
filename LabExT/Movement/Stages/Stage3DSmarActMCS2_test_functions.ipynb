{
 "cells": [
  {
   "cell_type": "code",
   "execution_count": 1,
   "metadata": {},
   "outputs": [
    {
     "name": "stdout",
     "output_type": "stream",
     "text": [
      "The stage address is '['usb:sn:MCS2-00018222']'.\n",
      "The stage object is '[<LabExT.Movement.Stages.Stage3DSmarActMCS2.Stage3DSmarActMCS2 object at 0x0000018604EB14B0>]'.\n",
      "Stage has been connected successfully.\n"
     ]
    }
   ],
   "source": [
    "#!/usr/bin/env python3\n",
    "# -*- coding: utf-8 -*-\n",
    "# This is a Notebook testing and demonstrating all functions of the Stage3DSmarActMCS2 driver.\n",
    "# IMPORTANT: before running this Notebook, ensure that the stage can move freely.\n",
    "# First move the working directory to LabExT\n",
    "\n",
    "address = 'usb:sn:MCS2-00018222' # VISA address MCS2 controller\n",
    "path_to_LabExT = 'C:\\\\Users\\\\jmaris\\\\Documents\\\\GitHub\\\\LabExT\\\\'\n",
    "\n",
    "import os\n",
    "os.chdir(path_to_LabExT)\n",
    "\n",
    "from LabExT.Movement.Stages.Stage3DSmarActMCS2 import Stage3DSmarActMCS2\n",
    "\n",
    "## Initialize class\n",
    "\n",
    "stage = Stage3DSmarActMCS2(address) # tests __init__(address)\n",
    "print('The stage address is \\'{}\\'.'.format(stage.find_stage_addresses()))\n",
    "print('The stage object is \\'{}\\'.'.format(stage.find_available_stages())) # fucntion in Stage parent class\n",
    "\n",
    "stage.connect()\n",
    "print('Stage has been connected successfully.')"
   ]
  },
  {
   "cell_type": "code",
   "execution_count": 2,
   "metadata": {},
   "outputs": [
    {
     "name": "stdout",
     "output_type": "stream",
     "text": [
      "The adress string is 'usb:sn:MCS2-00018222'.\n",
      "The identifier is 'usb:sn:MCS2-00018222'.\n",
      "The string representation of the stage is 'SmarAct Piezo-Stage at usb:sn:MCS2-00018222'.\n",
      "The statuses for the linear movers in x,y,z are (['CLOSED_LOOP_ACTIVE', 'SENSOR_PRESENT', 'IS_CALIBRATED', 'REFERENCE_MARK', 'AMPLIFIER_ENABLED', 'IN_POSITION'], ['CLOSED_LOOP_ACTIVE', 'SENSOR_PRESENT', 'IS_CALIBRATED', 'REFERENCE_MARK', 'AMPLIFIER_ENABLED', 'IN_POSITION'], ['CLOSED_LOOP_ACTIVE', 'SENSOR_PRESENT', 'IS_CALIBRATED', 'REFERENCE_MARK', 'AMPLIFIER_ENABLED', 'IN_POSITION']).\n"
     ]
    }
   ],
   "source": [
    "## Run tests and print results\n",
    "# Test all properties and functions in https://labext.readthedocs.io/en/latest/code_API_mover/ (LabExT v. 2.3.1)\n",
    "\n",
    "# Identification\n",
    "print('The adress string is \\'{}\\'.'.format(stage.address_string))\n",
    "print('The identifier is \\'{}\\'.'.format(stage.identifier))\n",
    "print('The string representation of the stage is \\'{}\\'.'.format(str(stage))) # tests __str()__\n",
    "print('The statuses for the linear movers in x,y,z are {}.'.format(stage.get_status()))"
   ]
  },
  {
   "cell_type": "code",
   "execution_count": 3,
   "metadata": {},
   "outputs": [
    {
     "name": "stdout",
     "output_type": "stream",
     "text": [
      "The accelleration in x,y is 0.0 um/s2. Setting to 100 um2/s.\n"
     ]
    }
   ],
   "source": [
    "# Get and set properties\n",
    "print('The accelleration in x,y is {} um/s2. Setting to 100 um2/s.'.format(stage.get_acceleration_xy()))\n",
    "stage.set_acceleration_xy(100)\n",
    "assert(stage.get_acceleration_xy() == 100)"
   ]
  },
  {
   "cell_type": "code",
   "execution_count": 4,
   "metadata": {},
   "outputs": [
    {
     "name": "stdout",
     "output_type": "stream",
     "text": [
      "The speed in x,y is 300.0 um/s. Setting to 200 um/s\n"
     ]
    }
   ],
   "source": [
    "print('The speed in x,y is {} um/s. Setting to 200 um/s'.format(stage.get_speed_xy()))\n",
    "stage.set_speed_xy(200)\n",
    "assert(stage.get_speed_xy() == 200)"
   ]
  },
  {
   "cell_type": "code",
   "execution_count": 5,
   "metadata": {},
   "outputs": [
    {
     "name": "stdout",
     "output_type": "stream",
     "text": [
      "The speed in z is 20.0 um/s. Setting to 10 um/s.\n"
     ]
    }
   ],
   "source": [
    "print('The speed in z is {} um/s. Setting to 10 um/s.'.format(stage.get_speed_z()))\n",
    "stage.set_speed_z(10)\n",
    "assert(stage.get_speed_z() == 10)"
   ]
  },
  {
   "cell_type": "code",
   "execution_count": 6,
   "metadata": {},
   "outputs": [
    {
     "name": "stdout",
     "output_type": "stream",
     "text": [
      "The position of the linear movers in x,y,z are [0.0039499999999999995, 0.002015, -0.00313] um. Setting to (500, 500, 25).\n",
      "The position of the linear movers in x,y,z are [500.00188199999997, 500.003404, 25.000429999999998] um.\n"
     ]
    }
   ],
   "source": [
    "movement_um = (500,500,25)\n",
    "print('The position of the linear movers in x,y,z are {0} um. Setting to {1}.'.format(stage.get_position(),movement_um))\n",
    "stage.move_absolute(x=movement_um[0], y=movement_um[1], z=movement_um[2], wait_for_stopping=True) # stage._wait_for_stopping and stage.is_stopped are invoked\n",
    "print('The position of the linear movers in x,y,z are {} um.'.format(stage.get_position()))\n"
   ]
  },
  {
   "cell_type": "code",
   "execution_count": 7,
   "metadata": {},
   "outputs": [
    {
     "name": "stdout",
     "output_type": "stream",
     "text": [
      "The position of the linear movers in x,y,z are [500.00344099999995, 500.002437, 24.999733] um. Moving back with (500, 500, 25).\n"
     ]
    }
   ],
   "source": [
    "print('The position of the linear movers in x,y,z are {0} um. Moving back with {1}.'.format(stage.get_position(),movement_um))\n",
    "stage.move_relative(x=-movement_um[0], y=-movement_um[1], z=-movement_um[2], wait_for_stopping=True)"
   ]
  },
  {
   "cell_type": "code",
   "execution_count": 8,
   "metadata": {},
   "outputs": [
    {
     "name": "stdout",
     "output_type": "stream",
     "text": [
      "Stage has been disconnected successfully.\n"
     ]
    }
   ],
   "source": [
    "# Close connection\n",
    "stage.disconnect()\n",
    "print('Stage has been disconnected successfully.')"
   ]
  },
  {
   "cell_type": "code",
   "execution_count": null,
   "metadata": {},
   "outputs": [],
   "source": []
  }
 ],
 "metadata": {
  "kernelspec": {
   "display_name": "LabExt_p310",
   "language": "python",
   "name": "python3"
  },
  "language_info": {
   "codemirror_mode": {
    "name": "ipython",
    "version": 3
   },
   "file_extension": ".py",
   "mimetype": "text/x-python",
   "name": "python",
   "nbconvert_exporter": "python",
   "pygments_lexer": "ipython3",
   "version": "3.10.14"
  }
 },
 "nbformat": 4,
 "nbformat_minor": 2
}
